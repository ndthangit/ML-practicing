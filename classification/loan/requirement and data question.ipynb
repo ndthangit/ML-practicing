{
 "cells": [
  {
   "cell_type": "markdown",
   "metadata": {},
   "source": [
    "## Don't know where to start? \n",
    "\n",
    "**Challenges are brief tasks designed to help you practice specific skills:**\n",
    " \n",
    "- 🗺️ **Explore**: Generate a correlation matrix between the numeric columns. What columns are positively and negatively correlated with each other? Does it change if you segment it by the purpose of the loan?\n",
    "- 📊 **Visualize**: Plot histograms for every numeric column with a color element to segment the bars by `not_fully_paid`.\n",
    "- 🔎 **Analyze**: Do loans with the same purpose have similar qualities not shared by loans with differing purposes? You can consider only fully paid loans.\n",
    "\n",
    "**Scenarios are broader questions to help you develop an end-to-end project for your portfolio:**\n",
    "\n",
    "You recently got a job as a machine learning scientist at a startup that wants to automate loan approvals. As your first project, your manager would like you to build a classifier to predict whether a loan will be paid back based on this data. There are two things to note. First, there is class imbalance; there are fewer examples of loans not fully paid. Second, it's more important to accurately predict whether a loan will not be paid back rather than if a loan is paid back. Your manager will want to know how you accounted for this in training and evaluation your model.\n",
    "\n",
    "You will need to prepare a report that is accessible to a broad audience. It will need to outline your motivation, analysis steps, findings, and conclusions."
   ]
  },
  {
   "cell_type": "markdown",
   "metadata": {},
   "source": [
    "## Data dictionary\n",
    "\n",
    "|    | Variable          | Explanation                                                                                                             |\n",
    "|---:|:------------------|:------------------------------------------------------------------------------------------------------------------------|\n",
    "|  0 | credit_policy     | 1 if the customer meets the credit underwriting criteria; 0 otherwise.                                                  |\n",
    "|  1 | purpose           | The purpose of the loan.                                                                                                |\n",
    "|  2 | int_rate          | The interest rate of the loan (more risky borrowers are assigned higher interest rates).                                |\n",
    "|  3 | installment       | The monthly installments owed by the borrower if the loan is funded.                                                    |\n",
    "|  4 | log_annual_inc    | The natural log of the self-reported annual income of the borrower.                                                     |\n",
    "|  5 | dti               | The debt-to-income ratio of the borrower (amount of debt divided by annual income).                                     |\n",
    "|  6 | fico              | The FICO credit score of the borrower.                                                                                  |\n",
    "|  7 | days_with_cr_line | The number of days the borrower has had a credit line.                                                                  |\n",
    "|  8 | revol_bal         | The borrower's revolving balance (amount unpaid at the end of the credit card billing cycle).                           |\n",
    "|  9 | revol_util        | The borrower's revolving line utilization rate (the amount of the credit line used relative to total credit available). |\n",
    "| 10 | inq_last_6mths    | The borrower's number of inquiries by creditors in the last 6 months.                                                   |\n",
    "| 11 | delinq_2yrs       | The number of times the borrower had been 30+ days past due on a payment in the past 2 years.                           |\n",
    "| 12 | pub_rec           | The borrower's number of derogatory public records.                                                                     |\n",
    "| 13 | not_fully_paid    | 1 if the loan is not fully paid; 0 otherwise.   \n",
    "\n",
    "[Source](https://www.kaggle.com/itssuru/loan-data) of dataset."
   ]
  }
 ],
 "metadata": {
  "kernelspec": {
   "display_name": "venv",
   "language": "python",
   "name": "python3"
  },
  "language_info": {
   "name": "python",
   "version": "3.11.3"
  }
 },
 "nbformat": 4,
 "nbformat_minor": 2
}
